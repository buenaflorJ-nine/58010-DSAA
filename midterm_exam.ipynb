{
  "nbformat": 4,
  "nbformat_minor": 0,
  "metadata": {
    "colab": {
      "provenance": [],
      "authorship_tag": "ABX9TyMMqX7RkmqyOuVuBNhUrR8q",
      "include_colab_link": true
    },
    "kernelspec": {
      "name": "python3",
      "display_name": "Python 3"
    },
    "language_info": {
      "name": "python"
    }
  },
  "cells": [
    {
      "cell_type": "markdown",
      "metadata": {
        "id": "view-in-github",
        "colab_type": "text"
      },
      "source": [
        "<a href=\"https://colab.research.google.com/github/buenaflorJ-nine/58010-DSAA/blob/main/midterm_exam.ipynb\" target=\"_parent\"><img src=\"https://colab.research.google.com/assets/colab-badge.svg\" alt=\"Open In Colab\"/></a>"
      ]
    },
    {
      "cell_type": "code",
      "execution_count": 2,
      "metadata": {
        "colab": {
          "base_uri": "https://localhost:8080/"
        },
        "id": "DUBSRH2zYLKH",
        "outputId": "f541f422-e799-42bd-bed8-afec453caec1"
      },
      "outputs": [
        {
          "output_type": "stream",
          "name": "stdout",
          "text": [
            "[{'A', 'B'}, {'B', 'C'}, {'E', 'B'}, {'F', 'B'}, {'D', 'C'}, {'E', 'C'}, {'F', 'C'}, {'I', 'C'}, {'M', 'C'}, {'D', 'K'}, {'D', 'L'}, {'N', 'E'}, {'F', 'G'}, {'I', 'F'}, {'I', 'G'}, {'J', 'G'}, {'I', 'J'}, {'I', 'K'}, {'J', 'K'}, {'L', 'M'}, {'L', 'P'}, {'N', 'M'}, {'O', 'M'}, {'P', 'M'}, {'N', 'O'}, {'P', 'O'}]\n"
          ]
        }
      ],
      "source": [
        "class graph:\n",
        "   def __init__(self,gdict=None):\n",
        "      if gdict is None:\n",
        "         gdict = {}\n",
        "      self.gdict = gdict\n",
        "\n",
        "   def edges(self):\n",
        "      return self.findedges()\n",
        "   def findedges(self):\n",
        "      edgename = []\n",
        "      for vrtx in self.gdict:\n",
        "         for nxtvrtx in self.gdict[vrtx]:\n",
        "            if {nxtvrtx, vrtx} not in edgename:\n",
        "               edgename.append({vrtx, nxtvrtx})\n",
        "      return edgename\n",
        "graph_elements = {\n",
        "   \"A\" : [\"B\"],\n",
        "   \"B\" : [\"C\",\"E\",\"F\"],\n",
        "   \"C\" : [\"D\",\"E\",\"F\",\"I\",\"M\"],\n",
        "   \"D\" : [\"K\",\"L\"],\n",
        "   \"E\" : [\"N\"],\n",
        "   \"F\" : [\"G\",\"I\"],\n",
        "   \"G\" : [\"I\",\"J\"],\n",
        "   \"I\" : [\"J\",\"K\"],\n",
        "   \"J\" : [\"K\"],\n",
        "   \"K\" : [\"J\"],\n",
        "   \"L\" : [\"M\",\"P\"],\n",
        "   \"M\" : [\"N\",\"O\",\"P\"],\n",
        "   \"N\" : [\"O\"],\n",
        "   \"O\" : [\"P\"],\n",
        "   \"P\" : [\"O\"]\n",
        "}\n",
        "\n",
        "g = graph(graph_elements)\n",
        "print(g.edges())"
      ]
    },
    {
      "cell_type": "code",
      "source": [
        "class graph:\n",
        "   def __init__(self,gdict=None):\n",
        "      if gdict is None:\n",
        "         gdict = []\n",
        "      self.gdict = gdict\n",
        "   def getVertices(self):\n",
        "      return list(self.gdict.keys())\n",
        "\n",
        "graph_elements = {\n",
        "   \"A\" : [\"B\"],\n",
        "   \"B\" : [\"C\",\"E\",\"F\"],\n",
        "   \"C\" : [\"D\",\"E\",\"F\",\"I\",\"M\"],\n",
        "   \"D\" : [\"K\",\"L\"],\n",
        "   \"E\" : [\"N\"],\n",
        "   \"F\" : [\"G\",\"I\"],\n",
        "   \"G\" : [\"I\",\"J\"],\n",
        "   \"I\" : [\"J\",\"K\"],\n",
        "   \"J\" : [\"K\"],\n",
        "   \"K\" : [\"J\"],\n",
        "   \"L\" : [\"M\",\"P\"],\n",
        "   \"M\" : [\"N\",\"O\",\"P\"],\n",
        "   \"N\" : [\"O\"],\n",
        "   \"O\" : [\"P\"],\n",
        "   \"P\" : [\"O\"]\n",
        "}\n",
        "\n",
        "g = graph(graph_elements)\n",
        "print(g.getVertices())"
      ],
      "metadata": {
        "colab": {
          "base_uri": "https://localhost:8080/"
        },
        "id": "nx91CNJzYNea",
        "outputId": "5fa568b8-df1d-43b3-a5bb-651199181b13"
      },
      "execution_count": 8,
      "outputs": [
        {
          "output_type": "stream",
          "name": "stdout",
          "text": [
            "['A', 'B', 'C', 'D', 'E', 'F', 'G', 'I', 'J', 'K', 'L', 'M', 'N', 'O', 'P']\n"
          ]
        }
      ]
    }
  ]
}