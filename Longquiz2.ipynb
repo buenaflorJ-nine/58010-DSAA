{
  "nbformat": 4,
  "nbformat_minor": 0,
  "metadata": {
    "colab": {
      "provenance": [],
      "authorship_tag": "ABX9TyNMjtgfbbfK6NcHcHMbv2mG",
      "include_colab_link": true
    },
    "kernelspec": {
      "name": "python3",
      "display_name": "Python 3"
    },
    "language_info": {
      "name": "python"
    }
  },
  "cells": [
    {
      "cell_type": "markdown",
      "metadata": {
        "id": "view-in-github",
        "colab_type": "text"
      },
      "source": [
        "<a href=\"https://colab.research.google.com/github/buenaflorJ-nine/58010-DSAA/blob/main/Longquiz2.ipynb\" target=\"_parent\"><img src=\"https://colab.research.google.com/assets/colab-badge.svg\" alt=\"Open In Colab\"/></a>"
      ]
    },
    {
      "cell_type": "code",
      "source": [
        "class graph:\n",
        "   def __init__(self,gdict=None):\n",
        "      if gdict is None:\n",
        "         gdict = {}\n",
        "      self.gdict = gdict\n",
        "\n",
        "   def edges(self):\n",
        "      return self.findedges()\n",
        "   def findedges(self):\n",
        "      edgename = []\n",
        "      for vrtx in self.gdict:\n",
        "         for nxtvrtx in self.gdict[vrtx]:\n",
        "            if {nxtvrtx, vrtx} not in edgename:\n",
        "               edgename.append({vrtx, nxtvrtx})\n",
        "      return edgename\n",
        "graph_elements = {\n",
        "   \"E\" : [\"I\",\"J\",\"K\",\"M\"],\n",
        "   \"F\" : [\"I\",\"J\",\"K\",\"P\"],\n",
        "   \"H\" : [\"I\",\"J\",\"K\"],\n",
        "   \"I\" : [\"E\",\"F\",\"H\"],\n",
        "   \"J\" : [\"E\",\"F\",\"H\"],\n",
        "   \"K\" : [\"E\",\"F\",\"H\"],\n",
        "   \"M\" : [\"E\"],\n",
        "   \"P\" : [\"F\"]\n",
        "}\n",
        "\n",
        "g = graph(graph_elements)\n",
        "print(g.edges())"
      ],
      "metadata": {
        "colab": {
          "base_uri": "https://localhost:8080/"
        },
        "id": "Ygd5IVnCV4ib",
        "outputId": "301864c2-8d1c-419c-aa2c-c1eecb8069a7"
      },
      "execution_count": 18,
      "outputs": [
        {
          "output_type": "stream",
          "name": "stdout",
          "text": [
            "[{'E', 'I'}, {'E', 'J'}, {'K', 'E'}, {'E', 'M'}, {'F', 'I'}, {'F', 'J'}, {'F', 'K'}, {'F', 'P'}, {'H', 'I'}, {'H', 'J'}, {'H', 'K'}]\n"
          ]
        }
      ]
    },
    {
      "cell_type": "code",
      "source": [
        "class Vertices:\n",
        "   def __init__(self,graph=None):\n",
        "      if graph is None:\n",
        "         graph = []\n",
        "      self.graph = graph\n",
        "   def graph_vertices(self):\n",
        "      return list(self.graph.keys())\n",
        "\n",
        "vertices = {\n",
        "   \"E\" : [\"I\",\"J\",\"K\",\"M\"],\n",
        "   \"F\" : [\"I\",\"J\",\"K\",\"P\"],\n",
        "   \"H\" : [\"I\",\"J\",\"K\"],\n",
        "   \"I\" : [\"E\",\"F\",\"H\"],\n",
        "   \"J\" : [\"E\",\"F\",\"H\"],\n",
        "   \"K\" : [\"E\",\"F\",\"H\"],\n",
        "   \"M\" : [\"E\"],\n",
        "   \"P\" : [\"F\"]\n",
        "}\n",
        "\n",
        "g = graph(vertices)\n",
        "print(g.graph_vertices())"
      ],
      "metadata": {
        "colab": {
          "base_uri": "https://localhost:8080/"
        },
        "id": "2rDjZVXgT3lj",
        "outputId": "62c0cdb3-0c22-416d-d2d9-090da3cb2ca4"
      },
      "execution_count": 9,
      "outputs": [
        {
          "output_type": "stream",
          "name": "stdout",
          "text": [
            "['E', 'F', 'H', 'I', 'J', 'K', 'M', 'P']\n"
          ]
        }
      ]
    }
  ]
}