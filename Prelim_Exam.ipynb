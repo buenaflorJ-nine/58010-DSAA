{
  "nbformat": 4,
  "nbformat_minor": 0,
  "metadata": {
    "colab": {
      "provenance": [],
      "authorship_tag": "ABX9TyPTxSgPmRgHijk2wvNvvLQy",
      "include_colab_link": true
    },
    "kernelspec": {
      "name": "python3",
      "display_name": "Python 3"
    },
    "language_info": {
      "name": "python"
    }
  },
  "cells": [
    {
      "cell_type": "markdown",
      "metadata": {
        "id": "view-in-github",
        "colab_type": "text"
      },
      "source": [
        "<a href=\"https://colab.research.google.com/github/buenaflorJ-nine/58010-DSAA/blob/main/Prelim_Exam.ipynb\" target=\"_parent\"><img src=\"https://colab.research.google.com/assets/colab-badge.svg\" alt=\"Open In Colab\"/></a>"
      ]
    },
    {
      "cell_type": "code",
      "execution_count": null,
      "metadata": {
        "colab": {
          "base_uri": "https://localhost:8080/"
        },
        "id": "sxgxWrKlThmv",
        "outputId": "0614aabb-d17c-4633-f466-c0a86cb93fda"
      },
      "outputs": [
        {
          "output_type": "stream",
          "name": "stdout",
          "text": [
            "The sum of the grades are: 397\n",
            "The sorted grades are: [26, 49, 62, 75, 87, 98]\n"
          ]
        }
      ],
      "source": [
        "import array\n",
        "array = [26, 49, 98, 87, 62, 75]\n",
        "x = sum(array)\n",
        "print(\"The sum of the grades are:\", x)\n",
        "array.sort()\n",
        "print(\"The sorted grades are:\", array)"
      ]
    }
  ]
}