{
  "nbformat": 4,
  "nbformat_minor": 0,
  "metadata": {
    "colab": {
      "provenance": [],
      "authorship_tag": "ABX9TyPisliiWHbSDyPRsCsxAdzt",
      "include_colab_link": true
    },
    "kernelspec": {
      "name": "python3",
      "display_name": "Python 3"
    },
    "language_info": {
      "name": "python"
    }
  },
  "cells": [
    {
      "cell_type": "markdown",
      "metadata": {
        "id": "view-in-github",
        "colab_type": "text"
      },
      "source": [
        "<a href=\"https://colab.research.google.com/github/buenaflorJ-nine/58010-DSAA/blob/main/Activity_2.ipynb\" target=\"_parent\"><img src=\"https://colab.research.google.com/assets/colab-badge.svg\" alt=\"Open In Colab\"/></a>"
      ]
    },
    {
      "cell_type": "code",
      "source": [
        "import math\n",
        "\n",
        "Prime = []\n",
        "\n",
        "def isPrime(num):\n",
        "    if num<=1:\n",
        "        return False\n",
        "    if num==2:\n",
        "        return True\n",
        "    if num%2==0:\n",
        "        return False\n",
        "    for i in range(3,int(math.sqrt(num))+1):\n",
        "        if num%==0:\n",
        "            return False\n",
        "    return True\n",
        "\n",
        "for i in range (0, 21):\n",
        "    if isPrime(i) == True:\n",
        "        Prime.append(i)\n",
        "\n",
        "print(Prime)\n",
        "print(\"The Head: \",Prime[0])\n",
        "print(\"The Tail:\", Prime[7])"
      ],
      "metadata": {
        "colab": {
          "base_uri": "https://localhost:8080/"
        },
        "id": "auP5TM_W_zfb",
        "outputId": "3e340253-98e2-41a1-bb2c-86453fc86ec8"
      },
      "execution_count": 9,
      "outputs": [
        {
          "output_type": "stream",
          "name": "stdout",
          "text": [
            "[2, 3, 5, 7, 11, 13, 17, 19]\n",
            "The head:  2\n",
            "The Tail: 19\n"
          ]
        }
      ]
    }
  ]
}