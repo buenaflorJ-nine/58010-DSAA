{
  "nbformat": 4,
  "nbformat_minor": 0,
  "metadata": {
    "colab": {
      "provenance": [],
      "authorship_tag": "ABX9TyNUIQsWMi+czt4vK4g+CFSz",
      "include_colab_link": true
    },
    "kernelspec": {
      "name": "python3",
      "display_name": "Python 3"
    },
    "language_info": {
      "name": "python"
    }
  },
  "cells": [
    {
      "cell_type": "markdown",
      "metadata": {
        "id": "view-in-github",
        "colab_type": "text"
      },
      "source": [
        "<a href=\"https://colab.research.google.com/github/buenaflorJ-nine/58010-DSAA/blob/main/Practical_Lab_Exam.ipynb\" target=\"_parent\"><img src=\"https://colab.research.google.com/assets/colab-badge.svg\" alt=\"Open In Colab\"/></a>"
      ]
    },
    {
      "cell_type": "code",
      "execution_count": 1,
      "metadata": {
        "colab": {
          "base_uri": "https://localhost:8080/"
        },
        "id": "juqHVFOL56sR",
        "outputId": "d4ec508c-4887-43b1-d3a3-7246c3ac96a4"
      },
      "outputs": [
        {
          "output_type": "stream",
          "name": "stdout",
          "text": [
            "186\n"
          ]
        }
      ],
      "source": [
        "TestScore = [26,49,98,87,62,75]\n",
        "a = 0\n",
        "\n",
        "for num in TestScore:\n",
        "    if num % 2 == 0:\n",
        "        a += num\n",
        "\n",
        "print(a)"
      ]
    }
  ]
}