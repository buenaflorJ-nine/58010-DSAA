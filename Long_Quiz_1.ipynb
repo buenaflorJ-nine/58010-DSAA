{
  "nbformat": 4,
  "nbformat_minor": 0,
  "metadata": {
    "colab": {
      "provenance": [],
      "authorship_tag": "ABX9TyO3m+uXI9plnHeO7LRmjW7P",
      "include_colab_link": true
    },
    "kernelspec": {
      "name": "python3",
      "display_name": "Python 3"
    },
    "language_info": {
      "name": "python"
    }
  },
  "cells": [
    {
      "cell_type": "markdown",
      "metadata": {
        "id": "view-in-github",
        "colab_type": "text"
      },
      "source": [
        "<a href=\"https://colab.research.google.com/github/buenaflorJ-nine/58010-DSAA/blob/main/Long_Quiz_1.ipynb\" target=\"_parent\"><img src=\"https://colab.research.google.com/assets/colab-badge.svg\" alt=\"Open In Colab\"/></a>"
      ]
    },
    {
      "cell_type": "markdown",
      "source": [
        "Question 1"
      ],
      "metadata": {
        "id": "GIOwXo3AJ648"
      }
    },
    {
      "cell_type": "code",
      "execution_count": null,
      "metadata": {
        "colab": {
          "base_uri": "https://localhost:8080/"
        },
        "id": "j3TRHwmIJCsC",
        "outputId": "63bc4174-fcb8-4270-e115-357a7f5fd0d4"
      },
      "outputs": [
        {
          "output_type": "stream",
          "name": "stdout",
          "text": [
            "Characters in reverse order:\n",
            "['r', 'o', 'l', 'f', 'a', 'n', 'e', 'u', 'B', ' ', '.', 'N', ' ', 'e', 'n', 'i', 'n', '-', 'J']\n"
          ]
        }
      ],
      "source": [
        "import array\n",
        "FName = \"J-nine N. Buenaflor\"\n",
        "letters = []\n",
        "for char in FName:\n",
        "  letters.append(char)\n",
        "\n",
        "print(\"Characters in reverse order:\")\n",
        "letters.reverse()\n",
        "print(letters)"
      ]
    },
    {
      "cell_type": "markdown",
      "source": [
        "Question 2"
      ],
      "metadata": {
        "id": "W_2pks3TJ9Db"
      }
    },
    {
      "cell_type": "code",
      "source": [
        "def PrimeNum(num):\n",
        "  if num==1:\n",
        "    print (f'{num} is a natural number')\n",
        "    return True\n",
        "  if num==2:\n",
        "    return True\n",
        "  if num%2==0:\n",
        "    return False\n",
        "  else:\n",
        "    for i in range(3, int(num**0.5) + 1, 2):\n",
        "      if num % i == 0:\n",
        "        return False\n",
        "    return True\n",
        "\n",
        "Numbers = [1,2,3,4,5,6,7,8,9,10]\n",
        "for num in Numbers:\n",
        "  if num == 1:\n",
        "    print(f'{num} = natural number')\n",
        "  if num != 1:\n",
        "    if PrimeNum(num):\n",
        "      print(f\"{num} = Prime Number\")\n",
        "    else:\n",
        "      print(f\"{num} = Composite Number\")"
      ],
      "metadata": {
        "colab": {
          "base_uri": "https://localhost:8080/"
        },
        "id": "LeMe5fNzJzUE",
        "outputId": "345fbe87-74f3-459b-f080-90cf84ec4363"
      },
      "execution_count": null,
      "outputs": [
        {
          "output_type": "stream",
          "name": "stdout",
          "text": [
            "1 = natural number\n",
            "2 = Prime Number\n",
            "3 = Prime Number\n",
            "4 = Composite Number\n",
            "5 = Prime Number\n",
            "6 = Composite Number\n",
            "7 = Prime Number\n",
            "8 = Composite Number\n",
            "9 = Composite Number\n",
            "10 = Composite Number\n"
          ]
        }
      ]
    }
  ]
}